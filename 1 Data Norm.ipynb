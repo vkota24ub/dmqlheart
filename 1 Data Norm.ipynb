{
 "cells": [
  {
   "cell_type": "code",
   "execution_count": 1,
   "id": "a5155f88-654c-4e6f-8e67-a118cee7058b",
   "metadata": {},
   "outputs": [],
   "source": [
    "import pandas as pd\n",
    "import numpy as np\n",
    "import os"
   ]
  },
  {
   "cell_type": "code",
   "execution_count": 2,
   "id": "94f721f7-1036-44f3-9380-3686e0a84ce8",
   "metadata": {},
   "outputs": [],
   "source": [
    "df = pd.read_csv('data.csv')"
   ]
  },
  {
   "cell_type": "code",
   "execution_count": 4,
   "id": "c2e79a9d-a1fb-40f4-9163-99ddad7414da",
   "metadata": {},
   "outputs": [
    {
     "data": {
      "text/html": [
       "<div>\n",
       "<style scoped>\n",
       "    .dataframe tbody tr th:only-of-type {\n",
       "        vertical-align: middle;\n",
       "    }\n",
       "\n",
       "    .dataframe tbody tr th {\n",
       "        vertical-align: top;\n",
       "    }\n",
       "\n",
       "    .dataframe thead th {\n",
       "        text-align: right;\n",
       "    }\n",
       "</style>\n",
       "<table border=\"1\" class=\"dataframe\">\n",
       "  <thead>\n",
       "    <tr style=\"text-align: right;\">\n",
       "      <th></th>\n",
       "      <th>PatientID</th>\n",
       "      <th>sex</th>\n",
       "      <th>AgeCategory</th>\n",
       "      <th>Race</th>\n",
       "      <th>PatientMedicationID</th>\n",
       "      <th>medicationID</th>\n",
       "      <th>startdate</th>\n",
       "      <th>enddate</th>\n",
       "      <th>InsuranceID</th>\n",
       "      <th>providername_x</th>\n",
       "      <th>...</th>\n",
       "      <th>physicalhealth</th>\n",
       "      <th>diabetic</th>\n",
       "      <th>testID</th>\n",
       "      <th>testtype</th>\n",
       "      <th>testdate</th>\n",
       "      <th>result</th>\n",
       "      <th>appointmentID</th>\n",
       "      <th>appointmentdate</th>\n",
       "      <th>providername_y</th>\n",
       "      <th>notes</th>\n",
       "    </tr>\n",
       "  </thead>\n",
       "  <tbody>\n",
       "    <tr>\n",
       "      <th>0</th>\n",
       "      <td>1</td>\n",
       "      <td>Male</td>\n",
       "      <td>Adult</td>\n",
       "      <td>Hispanic</td>\n",
       "      <td>1</td>\n",
       "      <td>231</td>\n",
       "      <td>3/6/2023</td>\n",
       "      <td>11/17/2023</td>\n",
       "      <td>1</td>\n",
       "      <td>Aetna</td>\n",
       "      <td>...</td>\n",
       "      <td>False</td>\n",
       "      <td>True</td>\n",
       "      <td>1</td>\n",
       "      <td>Blood Test</td>\n",
       "      <td>8/7/2023</td>\n",
       "      <td>Normal</td>\n",
       "      <td>1</td>\n",
       "      <td>10/15/2023</td>\n",
       "      <td>Dr. Patel</td>\n",
       "      <td>Follow-up</td>\n",
       "    </tr>\n",
       "    <tr>\n",
       "      <th>1</th>\n",
       "      <td>2</td>\n",
       "      <td>Female</td>\n",
       "      <td>Adult</td>\n",
       "      <td>Caucasian</td>\n",
       "      <td>2</td>\n",
       "      <td>183</td>\n",
       "      <td>3/25/2023</td>\n",
       "      <td>9/20/2023</td>\n",
       "      <td>2</td>\n",
       "      <td>Cigna</td>\n",
       "      <td>...</td>\n",
       "      <td>True</td>\n",
       "      <td>True</td>\n",
       "      <td>2</td>\n",
       "      <td>X-Ray</td>\n",
       "      <td>10/17/2023</td>\n",
       "      <td>Normal</td>\n",
       "      <td>2</td>\n",
       "      <td>7/10/2023</td>\n",
       "      <td>Dr. Patel</td>\n",
       "      <td>Follow-up</td>\n",
       "    </tr>\n",
       "    <tr>\n",
       "      <th>2</th>\n",
       "      <td>3</td>\n",
       "      <td>Male</td>\n",
       "      <td>Youth</td>\n",
       "      <td>Hispanic</td>\n",
       "      <td>3</td>\n",
       "      <td>7</td>\n",
       "      <td>1/24/2023</td>\n",
       "      <td>3/29/2023</td>\n",
       "      <td>3</td>\n",
       "      <td>Blue Cross</td>\n",
       "      <td>...</td>\n",
       "      <td>False</td>\n",
       "      <td>True</td>\n",
       "      <td>3</td>\n",
       "      <td>X-Ray</td>\n",
       "      <td>11/6/2023</td>\n",
       "      <td>Abnormal</td>\n",
       "      <td>3</td>\n",
       "      <td>8/15/2023</td>\n",
       "      <td>Dr. Lee</td>\n",
       "      <td>Consultation</td>\n",
       "    </tr>\n",
       "    <tr>\n",
       "      <th>3</th>\n",
       "      <td>4</td>\n",
       "      <td>Male</td>\n",
       "      <td>Senior</td>\n",
       "      <td>Caucasian</td>\n",
       "      <td>4</td>\n",
       "      <td>748</td>\n",
       "      <td>5/22/2023</td>\n",
       "      <td>8/3/2023</td>\n",
       "      <td>4</td>\n",
       "      <td>Blue Cross</td>\n",
       "      <td>...</td>\n",
       "      <td>True</td>\n",
       "      <td>False</td>\n",
       "      <td>4</td>\n",
       "      <td>X-Ray</td>\n",
       "      <td>9/16/2023</td>\n",
       "      <td>Normal</td>\n",
       "      <td>4</td>\n",
       "      <td>9/1/2023</td>\n",
       "      <td>Dr. Lee</td>\n",
       "      <td>Follow-up</td>\n",
       "    </tr>\n",
       "    <tr>\n",
       "      <th>4</th>\n",
       "      <td>5</td>\n",
       "      <td>Male</td>\n",
       "      <td>Senior</td>\n",
       "      <td>Caucasian</td>\n",
       "      <td>5</td>\n",
       "      <td>765</td>\n",
       "      <td>2/18/2023</td>\n",
       "      <td>1/27/2024</td>\n",
       "      <td>5</td>\n",
       "      <td>Aetna</td>\n",
       "      <td>...</td>\n",
       "      <td>False</td>\n",
       "      <td>True</td>\n",
       "      <td>5</td>\n",
       "      <td>Blood Test</td>\n",
       "      <td>9/22/2023</td>\n",
       "      <td>Abnormal</td>\n",
       "      <td>5</td>\n",
       "      <td>12/28/2024</td>\n",
       "      <td>Dr. Lee</td>\n",
       "      <td>Routine check-up</td>\n",
       "    </tr>\n",
       "  </tbody>\n",
       "</table>\n",
       "<p>5 rows × 29 columns</p>\n",
       "</div>"
      ],
      "text/plain": [
       "   PatientID     sex AgeCategory       Race  PatientMedicationID  \\\n",
       "0          1    Male       Adult   Hispanic                    1   \n",
       "1          2  Female       Adult  Caucasian                    2   \n",
       "2          3    Male       Youth   Hispanic                    3   \n",
       "3          4    Male      Senior  Caucasian                    4   \n",
       "4          5    Male      Senior  Caucasian                    5   \n",
       "\n",
       "   medicationID  startdate     enddate  InsuranceID providername_x  ...  \\\n",
       "0           231   3/6/2023  11/17/2023            1          Aetna  ...   \n",
       "1           183  3/25/2023   9/20/2023            2          Cigna  ...   \n",
       "2             7  1/24/2023   3/29/2023            3     Blue Cross  ...   \n",
       "3           748  5/22/2023    8/3/2023            4     Blue Cross  ...   \n",
       "4           765  2/18/2023   1/27/2024            5          Aetna  ...   \n",
       "\n",
       "  physicalhealth diabetic  testID    testtype    testdate    result  \\\n",
       "0          False     True       1  Blood Test    8/7/2023    Normal   \n",
       "1           True     True       2       X-Ray  10/17/2023    Normal   \n",
       "2          False     True       3       X-Ray   11/6/2023  Abnormal   \n",
       "3           True    False       4       X-Ray   9/16/2023    Normal   \n",
       "4          False     True       5  Blood Test   9/22/2023  Abnormal   \n",
       "\n",
       "   appointmentID  appointmentdate  providername_y             notes  \n",
       "0              1       10/15/2023       Dr. Patel         Follow-up  \n",
       "1              2        7/10/2023       Dr. Patel         Follow-up  \n",
       "2              3        8/15/2023         Dr. Lee      Consultation  \n",
       "3              4         9/1/2023         Dr. Lee         Follow-up  \n",
       "4              5       12/28/2024         Dr. Lee  Routine check-up  \n",
       "\n",
       "[5 rows x 29 columns]"
      ]
     },
     "execution_count": 4,
     "metadata": {},
     "output_type": "execute_result"
    }
   ],
   "source": [
    "df.head()"
   ]
  },
  {
   "cell_type": "code",
   "execution_count": 6,
   "id": "cfa4e76c-081f-479f-a2e2-dcc460976846",
   "metadata": {},
   "outputs": [],
   "source": [
    "# Healthrecords\n",
    "# - RecordID (PK) - True\n",
    "# - PatientID (FK) - True\n",
    "# - bmi - True\n",
    "# - smoking\n",
    "# - alcoholdrinking\n",
    "# - heartdisease\n",
    "# - physicalactivity\n",
    "# - mentalhealth\n",
    "# - physicalhealth\n",
    "# - diabetic"
   ]
  },
  {
   "cell_type": "code",
   "execution_count": 7,
   "id": "68e8986a-1a78-4ca4-a68c-eb11b9264878",
   "metadata": {},
   "outputs": [
    {
     "data": {
      "text/plain": [
       "Index(['PatientID', 'sex', 'AgeCategory', 'Race', 'PatientMedicationID',\n",
       "       'medicationID', 'startdate', 'enddate', 'InsuranceID', 'providername_x',\n",
       "       'policyname', 'coveragedetails', 'recordID', 'bmi', 'smoking',\n",
       "       'alcoholdrinking', 'heartdisease', 'physicalactivity', 'mentalhealth',\n",
       "       'physicalhealth', 'diabetic', 'testID', 'testtype', 'testdate',\n",
       "       'result', 'appointmentID', 'appointmentdate', 'providername_y',\n",
       "       'notes'],\n",
       "      dtype='object')"
      ]
     },
     "execution_count": 7,
     "metadata": {},
     "output_type": "execute_result"
    }
   ],
   "source": [
    "df.columns"
   ]
  },
  {
   "cell_type": "code",
   "execution_count": 15,
   "id": "67ee7320-1324-45c9-a99d-ce7f3cc698a1",
   "metadata": {},
   "outputs": [],
   "source": [
    "healthrecords_columns = ['recordID', 'PatientID', 'bmi', 'smoking', 'alcoholdrinking', 'heartdisease', 'physicalactivity', 'mentalhealth', 'physicalhealth', 'diabetic']\n",
    "healthrecords_df = df[healthrecords_columns]"
   ]
  },
  {
   "cell_type": "code",
   "execution_count": 16,
   "id": "49866ede-a0ef-4bf0-94e6-ee3f52a2d461",
   "metadata": {},
   "outputs": [
    {
     "data": {
      "text/html": [
       "<div>\n",
       "<style scoped>\n",
       "    .dataframe tbody tr th:only-of-type {\n",
       "        vertical-align: middle;\n",
       "    }\n",
       "\n",
       "    .dataframe tbody tr th {\n",
       "        vertical-align: top;\n",
       "    }\n",
       "\n",
       "    .dataframe thead th {\n",
       "        text-align: right;\n",
       "    }\n",
       "</style>\n",
       "<table border=\"1\" class=\"dataframe\">\n",
       "  <thead>\n",
       "    <tr style=\"text-align: right;\">\n",
       "      <th></th>\n",
       "      <th>recordID</th>\n",
       "      <th>PatientID</th>\n",
       "      <th>bmi</th>\n",
       "      <th>smoking</th>\n",
       "      <th>alcoholdrinking</th>\n",
       "      <th>heartdisease</th>\n",
       "      <th>physicalactivity</th>\n",
       "      <th>mentalhealth</th>\n",
       "      <th>physicalhealth</th>\n",
       "      <th>diabetic</th>\n",
       "    </tr>\n",
       "  </thead>\n",
       "  <tbody>\n",
       "    <tr>\n",
       "      <th>0</th>\n",
       "      <td>1</td>\n",
       "      <td>1</td>\n",
       "      <td>28.9</td>\n",
       "      <td>True</td>\n",
       "      <td>True</td>\n",
       "      <td>False</td>\n",
       "      <td>True</td>\n",
       "      <td>True</td>\n",
       "      <td>False</td>\n",
       "      <td>True</td>\n",
       "    </tr>\n",
       "    <tr>\n",
       "      <th>1</th>\n",
       "      <td>2</td>\n",
       "      <td>2</td>\n",
       "      <td>27.4</td>\n",
       "      <td>False</td>\n",
       "      <td>True</td>\n",
       "      <td>True</td>\n",
       "      <td>True</td>\n",
       "      <td>True</td>\n",
       "      <td>True</td>\n",
       "      <td>True</td>\n",
       "    </tr>\n",
       "    <tr>\n",
       "      <th>2</th>\n",
       "      <td>3</td>\n",
       "      <td>3</td>\n",
       "      <td>18.8</td>\n",
       "      <td>True</td>\n",
       "      <td>True</td>\n",
       "      <td>True</td>\n",
       "      <td>True</td>\n",
       "      <td>False</td>\n",
       "      <td>False</td>\n",
       "      <td>True</td>\n",
       "    </tr>\n",
       "    <tr>\n",
       "      <th>3</th>\n",
       "      <td>4</td>\n",
       "      <td>4</td>\n",
       "      <td>18.6</td>\n",
       "      <td>True</td>\n",
       "      <td>False</td>\n",
       "      <td>False</td>\n",
       "      <td>True</td>\n",
       "      <td>False</td>\n",
       "      <td>True</td>\n",
       "      <td>False</td>\n",
       "    </tr>\n",
       "    <tr>\n",
       "      <th>4</th>\n",
       "      <td>5</td>\n",
       "      <td>5</td>\n",
       "      <td>22.8</td>\n",
       "      <td>True</td>\n",
       "      <td>True</td>\n",
       "      <td>False</td>\n",
       "      <td>True</td>\n",
       "      <td>True</td>\n",
       "      <td>False</td>\n",
       "      <td>True</td>\n",
       "    </tr>\n",
       "  </tbody>\n",
       "</table>\n",
       "</div>"
      ],
      "text/plain": [
       "   recordID  PatientID   bmi  smoking  alcoholdrinking  heartdisease  \\\n",
       "0         1          1  28.9     True             True         False   \n",
       "1         2          2  27.4    False             True          True   \n",
       "2         3          3  18.8     True             True          True   \n",
       "3         4          4  18.6     True            False         False   \n",
       "4         5          5  22.8     True             True         False   \n",
       "\n",
       "   physicalactivity  mentalhealth  physicalhealth  diabetic  \n",
       "0              True          True           False      True  \n",
       "1              True          True            True      True  \n",
       "2              True         False           False      True  \n",
       "3              True         False            True     False  \n",
       "4              True          True           False      True  "
      ]
     },
     "execution_count": 16,
     "metadata": {},
     "output_type": "execute_result"
    }
   ],
   "source": [
    "healthrecords_df.head()"
   ]
  },
  {
   "cell_type": "code",
   "execution_count": 17,
   "id": "245a6da1-57da-4d69-a624-b1e2dd54da24",
   "metadata": {},
   "outputs": [
    {
     "name": "stderr",
     "output_type": "stream",
     "text": [
      "C:\\Users\\varun kumar kota\\AppData\\Local\\Temp\\ipykernel_15020\\93029185.py:1: SettingWithCopyWarning: \n",
      "A value is trying to be set on a copy of a slice from a DataFrame\n",
      "\n",
      "See the caveats in the documentation: https://pandas.pydata.org/pandas-docs/stable/user_guide/indexing.html#returning-a-view-versus-a-copy\n",
      "  healthrecords_df.drop_duplicates(inplace = True)\n"
     ]
    }
   ],
   "source": [
    "healthrecords_df.drop_duplicates(inplace = True)"
   ]
  },
  {
   "cell_type": "code",
   "execution_count": 18,
   "id": "850b5cb1-a13a-4af2-a9ba-63af554157ef",
   "metadata": {},
   "outputs": [],
   "source": [
    "healthrecords_df.to_csv(\"Healthrecords.csv\", index = False)"
   ]
  },
  {
   "cell_type": "code",
   "execution_count": 19,
   "id": "1fa6636c-7304-4311-8aaf-f993b5647bf8",
   "metadata": {},
   "outputs": [],
   "source": [
    "# Patients\n",
    "# PatientID\n",
    "# sex\n",
    "# AgeCategory\n",
    "# Race"
   ]
  },
  {
   "cell_type": "code",
   "execution_count": 21,
   "id": "53248bad-ef96-4160-964c-9e9cf4fc4159",
   "metadata": {},
   "outputs": [],
   "source": [
    "patients_columns = ['PatientID', 'sex', 'AgeCategory', 'Race']\n",
    "patients_df = df[patients_columns]"
   ]
  },
  {
   "cell_type": "code",
   "execution_count": 23,
   "id": "caf6ae2b-3099-4fde-8e5b-8b7d0a0de0b0",
   "metadata": {},
   "outputs": [
    {
     "name": "stderr",
     "output_type": "stream",
     "text": [
      "C:\\Users\\varun kumar kota\\AppData\\Local\\Temp\\ipykernel_15020\\1760470029.py:1: SettingWithCopyWarning: \n",
      "A value is trying to be set on a copy of a slice from a DataFrame\n",
      "\n",
      "See the caveats in the documentation: https://pandas.pydata.org/pandas-docs/stable/user_guide/indexing.html#returning-a-view-versus-a-copy\n",
      "  patients_df.drop_duplicates(inplace = True)\n"
     ]
    }
   ],
   "source": [
    "patients_df.drop_duplicates(inplace = True)"
   ]
  },
  {
   "cell_type": "code",
   "execution_count": 24,
   "id": "10ae256d-f582-4679-b4a4-2b1a3d8e5a29",
   "metadata": {},
   "outputs": [],
   "source": [
    "patients_df.to_csv(\"patients.csv\", header = False, index = False)"
   ]
  },
  {
   "cell_type": "code",
   "execution_count": 25,
   "id": "ddc26d4d-22e8-48dd-b72e-2caf520c6999",
   "metadata": {},
   "outputs": [],
   "source": [
    "# InsuranceID\n",
    "# PatientID\n",
    "# providername\n",
    "# policyname\n",
    "# coveragedetails"
   ]
  },
  {
   "cell_type": "code",
   "execution_count": 30,
   "id": "afb154b6-613c-4638-b536-e84e4be99650",
   "metadata": {},
   "outputs": [],
   "source": [
    "Insurance_columns = ['InsuranceID', 'PatientID', 'providername_x','policyname', 'coveragedetails']\n",
    "Insurance_df = df[Insurance_columns]"
   ]
  },
  {
   "cell_type": "code",
   "execution_count": 31,
   "id": "cacee25e-36ae-464b-a0d8-f83b9c0cddf4",
   "metadata": {},
   "outputs": [
    {
     "name": "stderr",
     "output_type": "stream",
     "text": [
      "C:\\Users\\varun kumar kota\\AppData\\Local\\Temp\\ipykernel_15020\\2693749097.py:1: SettingWithCopyWarning: \n",
      "A value is trying to be set on a copy of a slice from a DataFrame\n",
      "\n",
      "See the caveats in the documentation: https://pandas.pydata.org/pandas-docs/stable/user_guide/indexing.html#returning-a-view-versus-a-copy\n",
      "  Insurance_df.drop_duplicates(inplace = True)\n"
     ]
    }
   ],
   "source": [
    "Insurance_df.drop_duplicates(inplace = True)"
   ]
  },
  {
   "cell_type": "code",
   "execution_count": 32,
   "id": "ca77922d-c5ed-4187-9ca2-258f273e5875",
   "metadata": {},
   "outputs": [],
   "source": [
    "Insurance_df.to_csv(\"insurance.csv\", header = False, index = False)"
   ]
  },
  {
   "cell_type": "code",
   "execution_count": 33,
   "id": "76564ac6-c8cc-4adf-9283-2cecb723b607",
   "metadata": {},
   "outputs": [],
   "source": [
    "# testID\n",
    "# PatientID\n",
    "# testype\n",
    "# testdate\n",
    "# result"
   ]
  },
  {
   "cell_type": "code",
   "execution_count": 34,
   "id": "6ea56c9f-d992-4903-82a3-b21bed07e259",
   "metadata": {},
   "outputs": [],
   "source": [
    "Tests_columns = [ 'testID','PatientID', 'testtype', 'testdate','result']\n",
    "Tests_df = df[Tests_columns]"
   ]
  },
  {
   "cell_type": "code",
   "execution_count": 35,
   "id": "6d77fc85-6617-4e5b-9771-dd9f35056c44",
   "metadata": {},
   "outputs": [
    {
     "name": "stderr",
     "output_type": "stream",
     "text": [
      "C:\\Users\\varun kumar kota\\AppData\\Local\\Temp\\ipykernel_15020\\906502192.py:1: SettingWithCopyWarning: \n",
      "A value is trying to be set on a copy of a slice from a DataFrame\n",
      "\n",
      "See the caveats in the documentation: https://pandas.pydata.org/pandas-docs/stable/user_guide/indexing.html#returning-a-view-versus-a-copy\n",
      "  Tests_df.drop_duplicates(inplace = True)\n"
     ]
    }
   ],
   "source": [
    "Tests_df.drop_duplicates(inplace = True)"
   ]
  },
  {
   "cell_type": "code",
   "execution_count": 36,
   "id": "775e0b87-6cc8-47a2-a1af-38b2ca33bcf2",
   "metadata": {},
   "outputs": [],
   "source": [
    "Tests_df.to_csv(\"tests.csv\", header = False, index = False)"
   ]
  },
  {
   "cell_type": "code",
   "execution_count": 37,
   "id": "780060e7-dc00-4557-9de3-2eea4e87d9b3",
   "metadata": {},
   "outputs": [],
   "source": [
    "# medicationsID\n",
    "# PatientID\n",
    "# medicationname\n",
    "# dosage\n",
    "# frequency"
   ]
  },
  {
   "cell_type": "code",
   "execution_count": 38,
   "id": "05eddad1-aa05-40e1-b547-725700902638",
   "metadata": {},
   "outputs": [],
   "source": [
    "Medications_columns = [ 'testID','PatientID', 'testtype', 'testdate','result']\n",
    "Medications_df = df[Medications_columns]"
   ]
  },
  {
   "cell_type": "code",
   "execution_count": 39,
   "id": "968c60ca-6861-4015-9edd-8d762b68e815",
   "metadata": {},
   "outputs": [
    {
     "name": "stderr",
     "output_type": "stream",
     "text": [
      "C:\\Users\\varun kumar kota\\AppData\\Local\\Temp\\ipykernel_15020\\714823986.py:1: SettingWithCopyWarning: \n",
      "A value is trying to be set on a copy of a slice from a DataFrame\n",
      "\n",
      "See the caveats in the documentation: https://pandas.pydata.org/pandas-docs/stable/user_guide/indexing.html#returning-a-view-versus-a-copy\n",
      "  Medications_df.drop_duplicates(inplace = True)\n"
     ]
    }
   ],
   "source": [
    "Medications_df.drop_duplicates(inplace = True)"
   ]
  },
  {
   "cell_type": "code",
   "execution_count": 40,
   "id": "2f014c5b-c549-4480-9b4b-da581b559772",
   "metadata": {},
   "outputs": [],
   "source": [
    "Medications_df.to_csv(\"Medications.csv\", header = False, index = False)"
   ]
  },
  {
   "cell_type": "code",
   "execution_count": 41,
   "id": "617ac514-d6ec-42ed-9647-b346a0571e9f",
   "metadata": {},
   "outputs": [],
   "source": [
    "# patientmedicationID\n",
    "# patientID\n",
    "# medicationsID\n",
    "# startdate\n",
    "# enddate"
   ]
  },
  {
   "cell_type": "code",
   "execution_count": 42,
   "id": "92452257-9a79-4854-b16c-93e469c32ffc",
   "metadata": {},
   "outputs": [],
   "source": [
    "patientMedications_columns = [ 'PatientMedicationID', 'PatientID', 'medicationID', 'startdate', 'enddate']\n",
    "patientMedications_df = df[patientMedications_columns]"
   ]
  },
  {
   "cell_type": "code",
   "execution_count": 43,
   "id": "4ed342f4-2c0f-4ac0-898e-ac0dcbeb72a2",
   "metadata": {},
   "outputs": [
    {
     "name": "stderr",
     "output_type": "stream",
     "text": [
      "C:\\Users\\varun kumar kota\\AppData\\Local\\Temp\\ipykernel_15020\\2820480897.py:1: SettingWithCopyWarning: \n",
      "A value is trying to be set on a copy of a slice from a DataFrame\n",
      "\n",
      "See the caveats in the documentation: https://pandas.pydata.org/pandas-docs/stable/user_guide/indexing.html#returning-a-view-versus-a-copy\n",
      "  patientMedications_df.drop_duplicates(inplace = True)\n"
     ]
    }
   ],
   "source": [
    "patientMedications_df.drop_duplicates(inplace = True)"
   ]
  },
  {
   "cell_type": "code",
   "execution_count": 44,
   "id": "de8af27a-8dbd-403a-845f-76a581c6606e",
   "metadata": {},
   "outputs": [],
   "source": [
    "patientMedications_df.to_csv(\"PatientMedications.csv\", header = False, index = False)"
   ]
  },
  {
   "cell_type": "code",
   "execution_count": 45,
   "id": "aa49da13-36cd-43e7-9d65-fe4b319ebf6f",
   "metadata": {},
   "outputs": [],
   "source": [
    "# AppointmentID\n",
    "# patientID\n",
    "# appointmentdate\n",
    "# providename\n",
    "# notes"
   ]
  },
  {
   "cell_type": "code",
   "execution_count": 46,
   "id": "a865aa17-bb33-400d-9ef1-fe99e4b16e67",
   "metadata": {},
   "outputs": [],
   "source": [
    "Appointment_columns = [ 'appointmentID', 'PatientID', 'appointmentdate', 'providername_y', 'notes']\n",
    "Appointment_df = df[Appointment_columns]"
   ]
  },
  {
   "cell_type": "code",
   "execution_count": 47,
   "id": "2cad051e-b7e7-4d80-8f37-62308d11f098",
   "metadata": {},
   "outputs": [
    {
     "name": "stderr",
     "output_type": "stream",
     "text": [
      "C:\\Users\\varun kumar kota\\AppData\\Local\\Temp\\ipykernel_15020\\1919694688.py:1: SettingWithCopyWarning: \n",
      "A value is trying to be set on a copy of a slice from a DataFrame\n",
      "\n",
      "See the caveats in the documentation: https://pandas.pydata.org/pandas-docs/stable/user_guide/indexing.html#returning-a-view-versus-a-copy\n",
      "  Appointment_df.drop_duplicates(inplace = True)\n"
     ]
    }
   ],
   "source": [
    "Appointment_df.drop_duplicates(inplace = True)"
   ]
  },
  {
   "cell_type": "code",
   "execution_count": 48,
   "id": "c7bd5d27-0727-4f28-8490-1f20fcc291f1",
   "metadata": {},
   "outputs": [],
   "source": [
    "Appointment_df.to_csv(\"Appointments.csv\", header = False, index = False)"
   ]
  },
  {
   "cell_type": "code",
   "execution_count": null,
   "id": "40f4d8dc-97e8-466a-abce-b44d957fd457",
   "metadata": {},
   "outputs": [],
   "source": []
  }
 ],
 "metadata": {
  "kernelspec": {
   "display_name": "Python 3 (ipykernel)",
   "language": "python",
   "name": "python3"
  },
  "language_info": {
   "codemirror_mode": {
    "name": "ipython",
    "version": 3
   },
   "file_extension": ".py",
   "mimetype": "text/x-python",
   "name": "python",
   "nbconvert_exporter": "python",
   "pygments_lexer": "ipython3",
   "version": "3.12.4"
  }
 },
 "nbformat": 4,
 "nbformat_minor": 5
}
